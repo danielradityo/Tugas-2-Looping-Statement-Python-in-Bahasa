{
 "cells": [
  {
   "cell_type": "markdown",
   "metadata": {},
   "source": [
    "### Nomer 1\n",
    "\n",
    "**Buat Function yang bernama 'gambar_bintang()' yang dapat menghasilkan output sebagai berikut :**\n",
    "\n",
    "(Kode di bawah ini harap jangan dijalankan, apabila dijalankan maka dapat menghilangkan contoh output yang diharapkan)"
   ]
  },
  {
   "cell_type": "code",
   "execution_count": 3,
   "metadata": {
    "scrolled": false
   },
   "outputs": [
    {
     "name": "stdout",
     "output_type": "stream",
     "text": [
      " *  *  *  *  * \n",
      " *  *  *  * \n",
      " *  *  * \n",
      " *  * \n",
      " * \n",
      " *  * \n",
      " *  *  * \n",
      " *  *  *  * \n",
      " *  *  *  *  * \n",
      "\n"
     ]
    }
   ],
   "source": [
    "gambar_bintang(10)"
   ]
  },
  {
   "cell_type": "markdown",
   "metadata": {},
   "source": [
    "Notes :\n",
    "- Fungsi tersebut menerima satu parameter yang menunjukkan ukuran dari shape\n",
    "- Gunakan Nested Loop untuk memecahkan permasalahan tersebut\n"
   ]
  },
  {
   "cell_type": "code",
   "execution_count": 1,
   "metadata": {},
   "outputs": [
    {
     "name": "stdout",
     "output_type": "stream",
     "text": [
      " *  *  *  *  * \n",
      " *  *  *  * \n",
      " *  *  * \n",
      " *  * \n",
      " * \n",
      " *  * \n",
      " *  *  * \n",
      " *  *  *  * \n",
      " *  *  *  *  * \n"
     ]
    }
   ],
   "source": [
    "## Jawaban Homework Nomor 1\n",
    "lebar = 5\n",
    "for i in range(0, lebar-1):\n",
    "    for j in range(0,lebar-i):\n",
    "        print(' * ', end='')\n",
    "    print()\n",
    "    \n",
    "for i in range(lebar):\n",
    "    for j in range(0, i+1):\n",
    "        print(' * ', end='')\n",
    "    print()"
   ]
  },
  {
   "cell_type": "markdown",
   "metadata": {},
   "source": [
    "### Nomer 2\n",
    "\n",
    "**Buat program yang dapat menghasilkan output sebagai berikut :**\n",
    "\n",
    "(Kode di bawah ini harap jangan dijalankan, apabila dijalankan maka dapat menghilangkan contoh output yang diharapkan)"
   ]
  },
  {
   "cell_type": "code",
   "execution_count": 222,
   "metadata": {
    "scrolled": true
   },
   "outputs": [
    {
     "name": "stdout",
     "output_type": "stream",
     "text": [
      "                            * \n",
      "                         *  * \n",
      "                      *  *  * \n",
      "                   *  *  *  * \n",
      "                *  *  *  *  * \n",
      "             *  *  *  *  *  * \n",
      "          *  *  *  *  *  *  * \n",
      "       *  *  *  *  *  *  *  * \n",
      "    *  *  *  *  *  *  *  *  * \n",
      "\n"
     ]
    }
   ],
   "source": []
  },
  {
   "cell_type": "markdown",
   "metadata": {},
   "source": [
    "Notes :\n",
    "Notes :\n",
    "- Gunakan Nested Loop untuk memecahkan permasalahan tersebut\n",
    "- Gunakan pula conditional statement untuk melengkapi penyelesaian soal di atas\n"
   ]
  },
  {
   "cell_type": "code",
   "execution_count": 2,
   "metadata": {},
   "outputs": [
    {
     "name": "stdout",
     "output_type": "stream",
     "text": [
      "                            * \n",
      "                         *  * \n",
      "                      *  *  * \n",
      "                   *  *  *  * \n",
      "                *  *  *  *  * \n",
      "             *  *  *  *  *  * \n",
      "          *  *  *  *  *  *  * \n",
      "       *  *  *  *  *  *  *  * \n",
      "    *  *  *  *  *  *  *  *  * \n"
     ]
    }
   ],
   "source": [
    "## Jawaban Homework Nomor 2\n",
    "lebar = 9\n",
    "for i in range(0, lebar):\n",
    "    for j in range(0, lebar-i):\n",
    "        print('   ', end='')\n",
    "    print(' * ' * (i+1))"
   ]
  },
  {
   "cell_type": "markdown",
   "metadata": {},
   "source": [
    "### Nomer 3\n",
    "\n",
    "**Buat program yang dapat menghasilkan output kebalikan dari soal nomer 1 sebagai berikut :**\n",
    "\n",
    "(Kode di bawah ini harap jangan dijalankan, apabila dijalankan maka dapat menghilangkan contoh output yang diharapkan)"
   ]
  },
  {
   "cell_type": "code",
   "execution_count": 5,
   "metadata": {
    "scrolled": true
   },
   "outputs": [
    {
     "name": "stdout",
     "output_type": "stream",
     "text": [
      "    *  *  *  *  *  *  *  *  * \n",
      "       *  *  *  *  *  *  *  * \n",
      "          *  *  *  *  *  *  * \n",
      "             *  *  *  *  *  * \n",
      "                *  *  *  *  * \n",
      "                   *  *  *  * \n",
      "                      *  *  * \n",
      "                         *  * \n",
      "                            * \n",
      "                         *  * \n",
      "                      *  *  * \n",
      "                   *  *  *  * \n",
      "                *  *  *  *  * \n",
      "             *  *  *  *  *  * \n",
      "          *  *  *  *  *  *  * \n",
      "       *  *  *  *  *  *  *  * \n",
      "    *  *  *  *  *  *  *  *  * \n",
      "\n"
     ]
    }
   ],
   "source": []
  },
  {
   "cell_type": "markdown",
   "metadata": {},
   "source": [
    "Notes : \n",
    "- Gunakan Nested Loop untuk memecahkan permasalahan tersebut\n",
    "- Tidak perlu buat fungsi untuk menyelesaikan soal ini"
   ]
  },
  {
   "cell_type": "code",
   "execution_count": 3,
   "metadata": {},
   "outputs": [
    {
     "name": "stdout",
     "output_type": "stream",
     "text": [
      "    *  *  *  *  *  *  *  *  * \n",
      "       *  *  *  *  *  *  *  * \n",
      "          *  *  *  *  *  *  * \n",
      "             *  *  *  *  *  * \n",
      "                *  *  *  *  * \n",
      "                   *  *  *  * \n",
      "                      *  *  * \n",
      "                         *  * \n",
      "                            * \n",
      "                         *  * \n",
      "                      *  *  * \n",
      "                   *  *  *  * \n",
      "                *  *  *  *  * \n",
      "             *  *  *  *  *  * \n",
      "          *  *  *  *  *  *  * \n",
      "       *  *  *  *  *  *  *  * \n",
      "    *  *  *  *  *  *  *  *  * \n"
     ]
    }
   ],
   "source": [
    "## Jawaban Homework Nomor 3\n",
    "lebar = 9\n",
    "for i in range(0, lebar-1):\n",
    "    for j in range(0, i+1):\n",
    "        print('   ', end='')\n",
    "    print(' * ' * (lebar-i))\n",
    "    \n",
    "for i in range(0, lebar):\n",
    "    for j in range(0, lebar-i):\n",
    "        print('   ', end='')\n",
    "    print(' * ' * (i+1))"
   ]
  },
  {
   "cell_type": "markdown",
   "metadata": {},
   "source": [
    "### Nomer 4\n",
    "\n",
    "**Buat program yang dapat menghasilkan output sebagai berikut :**\n",
    "\n",
    "(Kode di bawah ini harap jangan dijalankan, apabila dijalankan maka dapat menghilangkan contoh output yang diharapkan)"
   ]
  },
  {
   "cell_type": "code",
   "execution_count": 34,
   "metadata": {
    "scrolled": true
   },
   "outputs": [
    {
     "name": "stdout",
     "output_type": "stream",
     "text": [
      " *  *  *  *  *  *  *  *  *  *  *  *  *  *  *  *  *  *  *  * \n",
      " *  *  *  *  *  *  *  *  *        *  *  *  *  *  *  *  *  * \n",
      " *  *  *  *  *  *  *  *              *  *  *  *  *  *  *  * \n",
      " *  *  *  *  *  *  *                    *  *  *  *  *  *  * \n",
      " *  *  *  *  *  *                          *  *  *  *  *  * \n",
      " *  *  *  *  *                                *  *  *  *  * \n",
      " *  *  *  *                                      *  *  *  * \n",
      " *  *  *                                            *  *  * \n",
      " *  *                                                  *  * \n",
      " *                                                        * \n",
      " *  *                                                  *  * \n",
      " *  *  *                                            *  *  * \n",
      " *  *  *  *                                      *  *  *  * \n",
      " *  *  *  *  *                                *  *  *  *  * \n",
      " *  *  *  *  *  *                          *  *  *  *  *  * \n",
      " *  *  *  *  *  *  *                    *  *  *  *  *  *  * \n",
      " *  *  *  *  *  *  *  *              *  *  *  *  *  *  *  * \n",
      " *  *  *  *  *  *  *  *  *        *  *  *  *  *  *  *  *  * \n",
      " *  *  *  *  *  *  *  *  *  *  *  *  *  *  *  *  *  *  *  * \n",
      "\n"
     ]
    }
   ],
   "source": []
  },
  {
   "cell_type": "markdown",
   "metadata": {},
   "source": [
    "Notes :\n",
    "\n",
    "- Gunakan Nested Loop untuk memecahkan permasalahan tersebut\n",
    "- Gunakan pula conditional statement untuk mendapatkan hasil di atas"
   ]
  },
  {
   "cell_type": "code",
   "execution_count": null,
   "metadata": {},
   "outputs": [],
   "source": []
  },
  {
   "cell_type": "code",
   "execution_count": 4,
   "metadata": {},
   "outputs": [
    {
     "name": "stdout",
     "output_type": "stream",
     "text": [
      " *  *  *  *  *  *  *  *  *  *  *  *  *  *  *  *  *  *  *  * \n",
      " *  *  *  *  *  *  *  *  *        *  *  *  *  *  *  *  *  * \n",
      " *  *  *  *  *  *  *  *              *  *  *  *  *  *  *  * \n",
      " *  *  *  *  *  *  *                    *  *  *  *  *  *  * \n",
      " *  *  *  *  *  *                          *  *  *  *  *  * \n",
      " *  *  *  *  *                                *  *  *  *  * \n",
      " *  *  *  *                                      *  *  *  * \n",
      " *  *  *                                            *  *  * \n",
      " *  *                                                  *  * \n",
      " *                                                        * \n",
      " *  *                                                  *  * \n",
      " *  *  *                                            *  *  * \n",
      " *  *  *  *                                      *  *  *  * \n",
      " *  *  *  *  *                                *  *  *  *  * \n",
      " *  *  *  *  *  *                          *  *  *  *  *  * \n",
      " *  *  *  *  *  *  *                    *  *  *  *  *  *  * \n",
      " *  *  *  *  *  *  *  *              *  *  *  *  *  *  *  * \n",
      " *  *  *  *  *  *  *  *  *        *  *  *  *  *  *  *  *  * \n",
      " *  *  *  *  *  *  *  *  *  *  *  *  *  *  *  *  *  *  *  * \n"
     ]
    }
   ],
   "source": [
    "## Jawaban Homework Nomor 4\n",
    "lebar = 10\n",
    "for i in range(0, lebar-1):\n",
    "    for j in range(0,lebar-i):\n",
    "        print(' * ', end='')\n",
    "    for j in range(i*2):\n",
    "        print('   ', end='')\n",
    "    for j in range(0,lebar-i):\n",
    "        print(' * ', end='')\n",
    "    print()\n",
    "\n",
    "\n",
    "    \n",
    "for i in range(0, lebar):\n",
    "    for j in range(0, i+1):\n",
    "        print(' * ', end='')\n",
    "    for j in range(2*(lebar-i-1)):\n",
    "        print('   ', end='')\n",
    "    for j in range(0, i+1):\n",
    "        print(' * ', end='')\n",
    "    \n",
    "    print()"
   ]
  },
  {
   "cell_type": "markdown",
   "metadata": {},
   "source": [
    "### Nomer 5\n",
    "\n",
    "**Buat Function bernama \"pohon_natal()\" yang dapat menghasilkan output sebagai berikut :**\n",
    "\n",
    "(Kode di bawah ini harap jangan dijalankan, apabila dijalankan maka dapat menghilangkan contoh output yang diharapkan)"
   ]
  },
  {
   "cell_type": "code",
   "execution_count": 39,
   "metadata": {},
   "outputs": [
    {
     "name": "stdout",
     "output_type": "stream",
     "text": [
      "                               *                            \n",
      "                            *  *  *                         \n",
      "                         *  *  *  *  *                      \n",
      "                               *                            \n",
      "                            *  *  *                         \n",
      "                         *  *  *  *  *                      \n",
      "                      *  *  *  *  *  *  *                   \n",
      "                   *  *  *  *  *  *  *  *  *                \n",
      "                *  *  *  *  *  *  *  *  *  *  *             \n",
      "                               *                            \n",
      "                            *  *  *                         \n",
      "                         *  *  *  *  *                      \n",
      "                      *  *  *  *  *  *  *                   \n",
      "                   *  *  *  *  *  *  *  *  *                \n",
      "                *  *  *  *  *  *  *  *  *  *  *             \n",
      "             *  *  *  *  *  *  *  *  *  *  *  *  *          \n",
      "          *  *  *  *  *  *  *  *  *  *  *  *  *  *  *       \n",
      "       *  *  *  *  *  *  *  *  *  *  *  *  *  *  *  *  *    \n",
      "                            *  *  *                         \n",
      "                            *  *  *                         \n",
      "                            *  *  *                         \n",
      "                            *  *  *                         \n",
      "                            *  *  *                         \n",
      "\n"
     ]
    }
   ],
   "source": [
    "pohon_natal(batang=5, \n",
    "            daun_dasar=9, \n",
    "            daun_tengah=6, \n",
    "            daun_atas=3)"
   ]
  },
  {
   "cell_type": "markdown",
   "metadata": {},
   "source": [
    "Notes :\n",
    "\n",
    "- Fungsi pohon_natal() menerima 4 parameter :\n",
    "    - batang : menunjukkan tinggi batang di paling bawah pohon\n",
    "    - daun_dasar : menunjukkan ukuran segitiga daun di paling dasar\n",
    "    - daun_tengah : menunjukkan ukuran segitiga daun di tengah\n",
    "    - daun_atas : menunjukkan ukurang segitiga daun di puncak/atas pohon\n",
    "        \n",
    "- Gunakan Nested Loop untuk memecahkan permasalahan tersebut\n",
    "- Gunakan pula conditional statement untuk mendapatkan hasil di atas"
   ]
  },
  {
   "cell_type": "code",
   "execution_count": 5,
   "metadata": {},
   "outputs": [
    {
     "name": "stdout",
     "output_type": "stream",
     "text": [
      "                               * \n",
      "                            *  *  * \n",
      "                         *  *  *  *  * \n",
      "                               * \n",
      "                            *  *  * \n",
      "                         *  *  *  *  * \n",
      "                      *  *  *  *  *  *  * \n",
      "                   *  *  *  *  *  *  *  *  * \n",
      "                *  *  *  *  *  *  *  *  *  *  * \n",
      "                               * \n",
      "                            *  *  * \n",
      "                         *  *  *  *  * \n",
      "                      *  *  *  *  *  *  * \n",
      "                   *  *  *  *  *  *  *  *  * \n",
      "                *  *  *  *  *  *  *  *  *  *  * \n",
      "             *  *  *  *  *  *  *  *  *  *  *  *  * \n",
      "          *  *  *  *  *  *  *  *  *  *  *  *  *  *  * \n",
      "       *  *  *  *  *  *  *  *  *  *  *  *  *  *  *  *  * \n",
      "                            *  *  * \n",
      "                            *  *  * \n",
      "                            *  *  * \n",
      "                            *  *  * \n",
      "                            *  *  * \n"
     ]
    }
   ],
   "source": [
    "## Jawaban Homework Nomor 5\n",
    "batang = 5\n",
    "daun_dasar = 9\n",
    "daun_tengah = 6\n",
    "daun_atas = 3\n",
    "\n",
    "\n",
    "for i in range(0, daun_atas):\n",
    "    for j in range(0, daun_dasar + 1 - i):\n",
    "        print('   ', end='')\n",
    "    for j in range(0,2*i+1):\n",
    "        print(' * ', end='')\n",
    "    print()\n",
    "\n",
    "for i in range(0, daun_tengah):\n",
    "    for j in range(0, daun_dasar + 1 - i):\n",
    "        print('   ', end='')\n",
    "    for j in range(0,2*i+1):\n",
    "        print(' * ', end='')\n",
    "    print()\n",
    "\n",
    "for i in range(0, daun_dasar):\n",
    "    for j in range(0, daun_dasar + 1 - i):\n",
    "        print('   ', end='')\n",
    "    for j in range(0,2*i+1):\n",
    "        print(' * ', end='')\n",
    "    print()\n",
    "    \n",
    "for i in range(0,batang):\n",
    "    for j in range(0,batang+4):\n",
    "        print('   ', end='')\n",
    "    print(' * '*3, end='')\n",
    "    print()\n",
    "    \n",
    "    "
   ]
  },
  {
   "cell_type": "code",
   "execution_count": null,
   "metadata": {},
   "outputs": [],
   "source": []
  }
 ],
 "metadata": {
  "kernelspec": {
   "display_name": "Python 3",
   "language": "python",
   "name": "python3"
  },
  "language_info": {
   "codemirror_mode": {
    "name": "ipython",
    "version": 3
   },
   "file_extension": ".py",
   "mimetype": "text/x-python",
   "name": "python",
   "nbconvert_exporter": "python",
   "pygments_lexer": "ipython3",
   "version": "3.8.5"
  }
 },
 "nbformat": 4,
 "nbformat_minor": 4
}
